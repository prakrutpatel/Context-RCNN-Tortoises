{
  "cells": [
    {
      "cell_type": "markdown",
      "metadata": {
        "id": "view-in-github",
        "colab_type": "text"
      },
      "source": [
        "<a href=\"https://colab.research.google.com/github/prakrutpatel/Context-RCNN-Tortoises/blob/main/Faster%20R-CNN%20vs%20Context%20R-CNN.ipynb\" target=\"_parent\"><img src=\"https://colab.research.google.com/assets/colab-badge.svg\" alt=\"Open In Colab\"/></a>"
      ]
    },
    {
      "cell_type": "markdown",
      "metadata": {
        "id": "MyjyGJjLypop"
      },
      "source": [
        "## Install dependencies"
      ]
    },
    {
      "cell_type": "code",
      "execution_count": null,
      "metadata": {
        "id": "8p3IL-8fTOEV"
      },
      "outputs": [],
      "source": [
        "from google.colab import drive\n",
        "drive.mount('/content/drive')"
      ]
    },
    {
      "cell_type": "code",
      "execution_count": null,
      "metadata": {
        "id": "Wrh_ihY4xxHn"
      },
      "outputs": [],
      "source": [
        "!pip install tensorflow==2.8\n",
        "!apt install --allow-change-held-packages libcudnn8=8.1.0.77-1+cuda11.2"
      ]
    },
    {
      "cell_type": "code",
      "execution_count": null,
      "metadata": {
        "id": "iXzE22XwTCXU"
      },
      "outputs": [],
      "source": [
        "!pip install pycocotools"
      ]
    },
    {
      "cell_type": "markdown",
      "metadata": {
        "id": "p0r4z0-dypor"
      },
      "source": [
        "#### Download and Install TensorFlow Framework"
      ]
    },
    {
      "cell_type": "code",
      "execution_count": null,
      "metadata": {
        "id": "tNPhFM-3TGrC"
      },
      "outputs": [],
      "source": [
        "import os\n",
        "import pathlib\n",
        "\n",
        "\n",
        "if \"models\" in pathlib.Path.cwd().parts:\n",
        "  while \"models\" in pathlib.Path.cwd().parts:\n",
        "    os.chdir('..')\n",
        "elif not pathlib.Path('models').exists():\n",
        "  !git clone --depth 1 https://github.com/tensorflow/models"
      ]
    },
    {
      "cell_type": "code",
      "execution_count": null,
      "metadata": {
        "id": "XNTEHCHKTLyB"
      },
      "outputs": [],
      "source": [
        "%%bash\n",
        "cd models/research/\n",
        "protoc object_detection/protos/*.proto --python_out=.\n",
        "cp object_detection/packages/tf2/setup.py .\n",
        "python -m pip install ."
      ]
    },
    {
      "cell_type": "code",
      "execution_count": null,
      "metadata": {
        "id": "OhOWUq-YT-rs"
      },
      "outputs": [],
      "source": [
        "import numpy as np\n",
        "import os\n",
        "import six\n",
        "import six.moves.urllib as urllib\n",
        "import sys\n",
        "import tarfile\n",
        "import tensorflow as tf\n",
        "import zipfile\n",
        "import pathlib\n",
        "import json\n",
        "import matplotlib.pyplot as plt\n",
        "from datetime import datetime\n",
        "from collections import defaultdict\n",
        "from io import StringIO\n",
        "from matplotlib import pyplot as plt\n",
        "from PIL import Image\n",
        "from IPython.display import display"
      ]
    },
    {
      "cell_type": "code",
      "execution_count": null,
      "metadata": {
        "id": "oLK6CMr3U7K2"
      },
      "outputs": [],
      "source": [
        "from object_detection.utils import ops as utils_ops\n",
        "from object_detection.utils import label_map_util\n",
        "from object_detection.utils import visualization_utils as vis_utils"
      ]
    },
    {
      "cell_type": "code",
      "execution_count": null,
      "metadata": {
        "id": "uMFZ_jhAbUgb"
      },
      "outputs": [],
      "source": [
        "!python /content/models/research/object_detection/builders/model_builder_tf2_test.py"
      ]
    },
    {
      "cell_type": "code",
      "execution_count": null,
      "metadata": {
        "id": "mAN0FAd1U-TO"
      },
      "outputs": [],
      "source": [
        "# patch tf1 into `utils.ops`\n",
        "utils_ops.tf = tf.compat.v1\n",
        "\n",
        "# Patch the location of gfile\n",
        "tf.gfile = tf.io.gfile"
      ]
    },
    {
      "cell_type": "code",
      "execution_count": null,
      "metadata": {
        "id": "K3CnUl_XVBTD"
      },
      "outputs": [],
      "source": [
        "def load_model(model_dir):\n",
        "  model = tf.saved_model.load(str(model_dir))\n",
        "  model = model.signatures['serving_default']\n",
        "  return model"
      ]
    },
    {
      "cell_type": "markdown",
      "metadata": {
        "id": "gWCJOlmwypot"
      },
      "source": [
        "#### Download train test dataset as tfrecords and coco annotation"
      ]
    },
    {
      "cell_type": "code",
      "execution_count": null,
      "metadata": {
        "id": "yjB0xUIGJ42M"
      },
      "outputs": [],
      "source": [
        "!mkdir \"Tortoise\"\n",
        "%cd /content/Tortoise"
      ]
    },
    {
      "cell_type": "code",
      "execution_count": null,
      "metadata": {
        "id": "rUDeJYB0Jkcb"
      },
      "outputs": [],
      "source": [
        "!curl -L \"https://app.roboflow.com/ds/jCjxJgk04M?key={YOURKEY}\" > roboflow.zip; unzip roboflow.zip; rm roboflow.zip"
      ]
    },
    {
      "cell_type": "code",
      "execution_count": null,
      "metadata": {
        "id": "Y5llj_jKKCTR"
      },
      "outputs": [],
      "source": [
        "%cd /content/\n",
        "!mkdir \"COCO\"\n",
        "%cd /content/COCO"
      ]
    },
    {
      "cell_type": "code",
      "execution_count": null,
      "metadata": {
        "id": "9b25SSO8JwnI"
      },
      "outputs": [],
      "source": [
        "!curl -L \"https://app.roboflow.com/ds/Yb2OGQm2xb?key={YOURKEY}\" > roboflow.zip; unzip roboflow.zip; rm roboflow.zip"
      ]
    },
    {
      "cell_type": "code",
      "execution_count": null,
      "metadata": {
        "id": "0SyFqzy_Kaen"
      },
      "outputs": [],
      "source": [
        "%cd /content"
      ]
    },
    {
      "cell_type": "code",
      "execution_count": null,
      "metadata": {
        "id": "kT2BdkUZKre7"
      },
      "outputs": [],
      "source": [
        "dataset = '/content/Tortoise'"
      ]
    },
    {
      "cell_type": "code",
      "execution_count": null,
      "metadata": {
        "id": "WtCt80e5dDp3"
      },
      "outputs": [],
      "source": [
        "# NOTE: Update these TFRecord names to your files!\n",
        "test_record_fname = dataset + '/test/tortoise.tfrecord'\n",
        "train_record_fname = dataset + '/train/tortoise.tfrecord'\n",
        "label_map_pbtxt_fname = dataset + '/train/tortoise_label_map.pbtxt'"
      ]
    },
    {
      "cell_type": "code",
      "execution_count": null,
      "metadata": {
        "id": "jRb2CEatWbVe"
      },
      "outputs": [],
      "source": [
        "# List of the strings that is used to add correct label for each box.\n",
        "PATH_TO_LABELS = dataset + '/train/tortoise_label_map.pbtxt'\n",
        "category_index = label_map_util.create_category_index_from_labelmap(PATH_TO_LABELS, use_display_name=False)"
      ]
    },
    {
      "cell_type": "code",
      "execution_count": null,
      "metadata": {
        "id": "8KGp8QOUWdLI"
      },
      "outputs": [],
      "source": [
        "# If you want to test the code with your images, just add path to the images to\n",
        "# the TEST_IMAGE_PATHS.\n",
        "PATH_TO_TEST_IMAGES_DIR = pathlib.Path(\"/content/COCO\" + '/test/')\n",
        "TEST_IMAGE_PATHS = sorted(list(PATH_TO_TEST_IMAGES_DIR.glob(\"*.jpg\")))\n",
        "TEST_IMAGE_PATHS"
      ]
    },
    {
      "cell_type": "markdown",
      "metadata": {
        "id": "MOwQh6p_ypot"
      },
      "source": [
        "#### Ignore if your images have date captured metadata\n",
        "#### In order for these images to used with Context RCNN Model they need date captured metadata.\n",
        "\n",
        "I add the metadata attribute for each image based on it's name string."
      ]
    },
    {
      "cell_type": "code",
      "execution_count": null,
      "metadata": {
        "id": "KKOrYPlRW4R1"
      },
      "outputs": [],
      "source": [
        "test_data_json = '/content/COCO/test/_annotations.coco.json'\n",
        "with open(test_data_json, 'r') as f:\n",
        "  test_metadata = json.load(f)\n",
        "for im in test_metadata['images']:\n",
        "            im['date_captured'] = str(datetime.strptime(im['file_name'][6:21],\"%Y%m%d-%H%M%S\"))"
      ]
    },
    {
      "cell_type": "code",
      "execution_count": null,
      "metadata": {
        "id": "zNk5UDO0W52J"
      },
      "outputs": [],
      "source": [
        "image_id_to_datetime = {im['id']:im['date_captured'] for im in test_metadata['images']}\n",
        "image_path_to_id = {im['file_name']: im['id']\n",
        "                    for im in test_metadata['images']}\n",
        "image_path_to_id"
      ]
    },
    {
      "cell_type": "markdown",
      "metadata": {
        "id": "Sguw20fiypou"
      },
      "source": [
        "**Load trained Faster RCNN Model (input_type imagetensor)**"
      ]
    },
    {
      "cell_type": "code",
      "execution_count": null,
      "metadata": {
        "id": "J5H04yh1W7xv"
      },
      "outputs": [],
      "source": [
        "faster_rcnn_model = load_model('/content/drive/MyDrive/Context training/Faster_RCNN_SS1_imagetensor/saved_model')"
      ]
    },
    {
      "cell_type": "code",
      "execution_count": null,
      "metadata": {
        "id": "UKp5R1TAXVqA"
      },
      "outputs": [],
      "source": [
        "faster_rcnn_model.inputs"
      ]
    },
    {
      "cell_type": "code",
      "execution_count": null,
      "metadata": {
        "id": "PHegvVeottjM"
      },
      "outputs": [],
      "source": [
        "faster_rcnn_model.outputs"
      ]
    },
    {
      "cell_type": "code",
      "execution_count": null,
      "metadata": {
        "id": "spXyrO59YTTH"
      },
      "outputs": [],
      "source": [
        "faster_rcnn_model.output_dtypes"
      ]
    },
    {
      "cell_type": "code",
      "execution_count": null,
      "metadata": {
        "id": "cdgqODGBYWf1"
      },
      "outputs": [],
      "source": [
        "faster_rcnn_model.output_shapes"
      ]
    },
    {
      "cell_type": "code",
      "execution_count": null,
      "metadata": {
        "id": "K9pUxEHzYZuL"
      },
      "outputs": [],
      "source": [
        "def run_inference_for_single_image(model, image):\n",
        "  '''Run single image through tensorflow object detection saved_model.\n",
        "\n",
        "  This function runs a saved_model on a (single) provided image and returns\n",
        "  inference results in numpy arrays.\n",
        "\n",
        "  Args:\n",
        "    model: tensorflow saved_model. This model can be obtained using\n",
        "      export_inference_graph.py.\n",
        "    image: uint8 numpy array with shape (img_height, img_width, 3)\n",
        "\n",
        "  Returns:\n",
        "    output_dict: a dictionary holding the following entries:\n",
        "      `num_detections`: an integer\n",
        "      `detection_boxes`: a numpy (float32) array of shape [N, 4]\n",
        "      `detection_classes`: a numpy (uint8) array of shape [N]\n",
        "      `detection_scores`: a numpy (float32) array of shape [N]\n",
        "      `detection_features`: a numpy (float32) array of shape [N, 7, 7, 2048]\n",
        "  '''\n",
        "  image = np.asarray(image)\n",
        "  # The input needs to be a tensor, convert it using `tf.convert_to_tensor`.\n",
        "  input_tensor = tf.convert_to_tensor(image)\n",
        "  # The model expects a batch of images, so add an axis with `tf.newaxis`.\n",
        "  input_tensor = input_tensor[tf.newaxis,...]\n",
        "\n",
        "  # Run inference\n",
        "  output_dict = model(input_tensor)\n",
        "  # All outputs are batches tensors.\n",
        "  # Convert to numpy arrays, and take index [0] to remove the batch dimension.\n",
        "  # We're only interested in the first num_detections.\n",
        "  num_dets = output_dict.pop('num_detections')\n",
        "  num_detections = int(num_dets)\n",
        "  for key,value in output_dict.items():\n",
        "    output_dict[key] = value[0, :num_detections].numpy()\n",
        "  output_dict['num_detections'] = num_detections\n",
        "\n",
        "  # detection_classes should be ints.\n",
        "  output_dict['detection_classes'] = output_dict['detection_classes'].astype(\n",
        "      np.int64)\n",
        "  return output_dict"
      ]
    },
    {
      "cell_type": "code",
      "execution_count": null,
      "metadata": {
        "id": "mBFmPoOpYaeY"
      },
      "outputs": [],
      "source": [
        "def embed_date_captured(date_captured):\n",
        "  \"\"\"Encodes the datetime of the image.\n",
        "\n",
        "  Takes a datetime object and encodes it into a normalized embedding of shape\n",
        "  [5], using hard-coded normalization factors for year, month, day, hour,\n",
        "  minute.\n",
        "\n",
        "  Args:\n",
        "    date_captured: A datetime object.\n",
        "\n",
        "  Returns:\n",
        "    A numpy float32 embedding of shape [5].\n",
        "  \"\"\"\n",
        "  embedded_date_captured = []\n",
        "  month_max = 12.0\n",
        "  day_max = 31.0\n",
        "  hour_max = 24.0\n",
        "  minute_max = 60.0\n",
        "  min_year = 1990.0\n",
        "  max_year = 2030.0\n",
        "\n",
        "  year = (date_captured.year-min_year)/float(max_year-min_year)\n",
        "  embedded_date_captured.append(year)\n",
        "\n",
        "  month = (date_captured.month-1)/month_max\n",
        "  embedded_date_captured.append(month)\n",
        "\n",
        "  day = (date_captured.day-1)/day_max\n",
        "  embedded_date_captured.append(day)\n",
        "\n",
        "  hour = date_captured.hour/hour_max\n",
        "  embedded_date_captured.append(hour)\n",
        "\n",
        "  minute = date_captured.minute/minute_max\n",
        "  embedded_date_captured.append(minute)\n",
        "\n",
        "  return np.asarray(embedded_date_captured)"
      ]
    },
    {
      "cell_type": "code",
      "execution_count": null,
      "metadata": {
        "id": "Q8raVuGuYdQB"
      },
      "outputs": [],
      "source": [
        "def embed_position_and_size(box):\n",
        "  \"\"\"Encodes the bounding box of the object of interest.\n",
        "\n",
        "  Takes a bounding box and encodes it into a normalized embedding of shape\n",
        "  [4] - the center point (x,y) and width and height of the box.\n",
        "\n",
        "  Args:\n",
        "    box: A bounding box, formatted as [ymin, xmin, ymax, xmax].\n",
        "\n",
        "  Returns:\n",
        "    A numpy float32 embedding of shape [4].\n",
        "  \"\"\"\n",
        "  ymin = box[0]\n",
        "  xmin = box[1]\n",
        "  ymax = box[2]\n",
        "  xmax = box[3]\n",
        "  w = xmax - xmin\n",
        "  h = ymax - ymin\n",
        "  x = xmin + w / 2.0\n",
        "  y = ymin + h / 2.0\n",
        "  return np.asarray([x, y, w, h])"
      ]
    },
    {
      "cell_type": "code",
      "execution_count": null,
      "metadata": {
        "id": "fF_Ug1EUYfW3"
      },
      "outputs": [],
      "source": [
        "def get_context_feature_embedding(date_captured, detection_boxes,\n",
        "                                  detection_features, detection_scores):\n",
        "  \"\"\"Extracts representative feature embedding for a given input image.\n",
        "\n",
        "  Takes outputs of a detection model and focuses on the highest-confidence\n",
        "  detected object. Starts with detection_features and uses average pooling to\n",
        "  remove the spatial dimensions, then appends an embedding of the box position\n",
        "  and size, and an embedding of the date and time the image was captured,\n",
        "  returning a one-dimensional representation of the object.\n",
        "\n",
        "  Args:\n",
        "    date_captured: A datetime string of format '%Y-%m-%d %H:%M:%S'.\n",
        "    detection_features: A numpy (float32) array of shape [N, 7, 7, 2048].\n",
        "    detection_boxes: A numpy (float32) array of shape [N, 4].\n",
        "    detection_scores: A numpy (float32) array of shape [N].\n",
        "\n",
        "  Returns:\n",
        "    A numpy float32 embedding of shape [2057].\n",
        "  \"\"\"\n",
        "  date_captured = datetime.strptime(date_captured,'%Y-%m-%d %H:%M:%S')\n",
        "  temporal_embedding = embed_date_captured(date_captured)\n",
        "  embedding = detection_features[0]\n",
        "  pooled_embedding = np.mean(np.mean(embedding, axis=1), axis=0)\n",
        "  box = detection_boxes[0]\n",
        "  position_embedding = embed_position_and_size(box)\n",
        "  bb_embedding = np.concatenate((pooled_embedding, position_embedding))\n",
        "  embedding = np.expand_dims(np.concatenate((bb_embedding,temporal_embedding)),\n",
        "                             axis=0)\n",
        "  score = detection_scores[0]\n",
        "  return embedding, score"
      ]
    },
    {
      "cell_type": "code",
      "execution_count": null,
      "metadata": {
        "id": "5Y1Sl1TVYhyX"
      },
      "outputs": [],
      "source": [
        "def run_inference(model, image_path, date_captured, resize_image=True):\n",
        "  \"\"\"Runs inference over a single input image and extracts contextual features.\n",
        "\n",
        "  Args:\n",
        "    model: A tensorflow saved_model object.\n",
        "    image_path: Absolute path to the input image.\n",
        "    date_captured: A datetime string of format '%Y-%m-%d %H:%M:%S'.\n",
        "    resize_image: Whether to resize the input image before running inference.\n",
        "\n",
        "  Returns:\n",
        "    context_feature: A numpy float32 array of shape [2057].\n",
        "    score: A numpy float32 object score for the embedded object.\n",
        "    output_dict: The saved_model output dictionary for the image.\n",
        "  \"\"\"\n",
        "  with open(image_path,'rb') as f:\n",
        "    image = Image.open(f)\n",
        "    if resize_image:\n",
        "      image.thumbnail((640,640),Image.ANTIALIAS)\n",
        "    image_np = np.array(image)\n",
        "\n",
        "  # Actual detection.\n",
        "  output_dict = run_inference_for_single_image(model, image_np)\n",
        "  context_feature, score = get_context_feature_embedding(\n",
        "      date_captured, output_dict['detection_boxes'],\n",
        "      output_dict['detection_features'], output_dict['detection_scores'])\n",
        "  return context_feature, score, output_dict"
      ]
    },
    {
      "cell_type": "markdown",
      "metadata": {
        "id": "fYfZEs3Oypov"
      },
      "source": [
        "#### Now we create contextual feature matrix of these images by using our trained Faster RCNN Model (input_type imagetensor).\n",
        "\n",
        "This is possible because of this line we added while exporting the trained model: \"--additional_output_tensor_names detection_features\".\n",
        "This allows our model output detection scores and context features for each image"
      ]
    },
    {
      "cell_type": "code",
      "execution_count": null,
      "metadata": {
        "id": "61ac1kAEYjof"
      },
      "outputs": [],
      "source": [
        "import posixpath\n",
        "context_features = []\n",
        "scores = []\n",
        "faster_rcnn_results = {}\n",
        "for image_path in TEST_IMAGE_PATHS:\n",
        "  head,tail = posixpath.split(image_path)\n",
        "  image_id = image_path_to_id[str(tail)]\n",
        "  date_captured = image_id_to_datetime[image_id]\n",
        "  context_feature, score, results = run_inference(\n",
        "      faster_rcnn_model, image_path, date_captured)\n",
        "  faster_rcnn_results[image_id] = results\n",
        "  context_features.append(context_feature)\n",
        "  scores.append(score)\n",
        "\n",
        "# Concatenate all extracted context embeddings into a contextual memory bank.\n",
        "context_features_matrix = np.concatenate(context_features, axis=0)\n"
      ]
    },
    {
      "cell_type": "markdown",
      "metadata": {
        "id": "LT5lPljgypov"
      },
      "source": [
        "#### Load our trained Context RCNN model and set padding size"
      ]
    },
    {
      "cell_type": "code",
      "execution_count": null,
      "metadata": {
        "id": "nrTwQGz3dXaC"
      },
      "outputs": [],
      "source": [
        "context_rcnn_model = load_model('/content/drive/MyDrive/Context training/Context_RCNN_SS_trained_1/saved_model')"
      ]
    },
    {
      "cell_type": "code",
      "execution_count": null,
      "metadata": {
        "id": "pMmi6EMediK4"
      },
      "outputs": [],
      "source": [
        "context_padding_size = 2000"
      ]
    },
    {
      "cell_type": "code",
      "execution_count": null,
      "metadata": {
        "id": "BXeHljDedj8j"
      },
      "outputs": [],
      "source": [
        "context_rcnn_model.inputs"
      ]
    },
    {
      "cell_type": "code",
      "execution_count": null,
      "metadata": {
        "id": "RxvtDiXGdmav"
      },
      "outputs": [],
      "source": [
        "context_rcnn_model.output_dtypes"
      ]
    },
    {
      "cell_type": "code",
      "execution_count": null,
      "metadata": {
        "id": "sOfn86DUdohh"
      },
      "outputs": [],
      "source": [
        "context_rcnn_model.output_shapes"
      ]
    },
    {
      "cell_type": "code",
      "execution_count": null,
      "metadata": {
        "id": "kCFpCYBSeGfR"
      },
      "outputs": [],
      "source": [
        "def run_context_rcnn_inference_for_single_image(\n",
        "    model, image, context_features, context_padding_size):\n",
        "  '''Run single image through a Context R-CNN saved_model.\n",
        "\n",
        "  This function runs a saved_model on a (single) provided image and provided\n",
        "  contextual features and returns inference results in numpy arrays.\n",
        "\n",
        "  Args:\n",
        "    model: tensorflow Context R-CNN saved_model. This model can be obtained\n",
        "      using export_inference_graph.py and setting side_input fields.\n",
        "      Example export call -\n",
        "        python export_inference_graph.py \\\n",
        "          --input_type image_tensor \\\n",
        "          --pipeline_config_path /path/to/context_rcnn_model.config \\\n",
        "          --trained_checkpoint_prefix /path/to/context_rcnn_model.ckpt \\\n",
        "          --output_directory /path/to/output_dir \\\n",
        "          --use_side_inputs True \\\n",
        "          --side_input_shapes 1,2000,2057/1 \\\n",
        "          --side_input_names context_features,valid_context_size \\\n",
        "          --side_input_types float,int \\\n",
        "          --input_shape 1,-1,-1,3\n",
        "\n",
        "    image: uint8 numpy array with shape (img_height, img_width, 3)\n",
        "    context_features: A numpy float32 contextual memory bank of shape\n",
        "      [num_context_examples, 2057]\n",
        "    context_padding_size: The amount of expected padding in the contextual\n",
        "      memory bank, defined in the Context R-CNN config as\n",
        "      max_num_context_features.\n",
        "\n",
        "  Returns:\n",
        "    output_dict: a dictionary holding the following entries:\n",
        "      `num_detections`: an integer\n",
        "      `detection_boxes`: a numpy (float32) array of shape [N, 4]\n",
        "      `detection_classes`: a numpy (uint8) array of shape [N]\n",
        "      `detection_scores`: a numpy (float32) array of shape [N]\n",
        "  '''\n",
        "  image = np.asarray(image)\n",
        "  # The input image needs to be a tensor, convert it using\n",
        "  # `tf.convert_to_tensor`.\n",
        "  image_tensor = tf.convert_to_tensor(\n",
        "      image, name='image_tensor')[tf.newaxis,...]\n",
        "\n",
        "  context_features = np.asarray(context_features)\n",
        "  valid_context_size = context_features.shape[0]\n",
        "  valid_context_size_tensor = tf.convert_to_tensor(\n",
        "      valid_context_size, name='valid_context_size')[tf.newaxis,...]\n",
        "  padded_context_features = np.pad(\n",
        "      context_features,\n",
        "      ((0,context_padding_size-valid_context_size),(0,0)), mode='constant')\n",
        "  padded_context_features_tensor = tf.convert_to_tensor(\n",
        "      padded_context_features,\n",
        "      name='context_features',\n",
        "      dtype=tf.float32)[tf.newaxis,...]\n",
        "\n",
        "  # Run inference\n",
        "  output_dict = model(\n",
        "      inputs=image_tensor,\n",
        "      context_features=padded_context_features_tensor,\n",
        "      valid_context_size=valid_context_size_tensor)\n",
        "  # All outputs are batches tensors.\n",
        "  # Convert to numpy arrays, and take index [0] to remove the batch dimension.\n",
        "  # We're only interested in the first num_detections.\n",
        "  num_dets = output_dict.pop('num_detections')\n",
        "  num_detections = int(num_dets)\n",
        "  for key,value in output_dict.items():\n",
        "    output_dict[key] = value[0, :num_detections].numpy()\n",
        "  output_dict['num_detections'] = num_detections\n",
        "\n",
        "  # detection_classes should be ints.\n",
        "  output_dict['detection_classes'] = output_dict['detection_classes'].astype(np.int64)\n",
        "  return output_dict"
      ]
    },
    {
      "cell_type": "code",
      "execution_count": null,
      "metadata": {
        "id": "T2ITmtdOeH6C"
      },
      "outputs": [],
      "source": [
        "def show_context_rcnn_inference(\n",
        "    model, image_path, context_features, faster_rcnn_output_dict,\n",
        "    context_padding_size, resize_image=True):\n",
        "  \"\"\"Runs inference over a single input image and visualizes Faster R-CNN vs.\n",
        "  Context R-CNN results.\n",
        "\n",
        "  Args:\n",
        "    model: A tensorflow saved_model object.\n",
        "    image_path: Absolute path to the input image.\n",
        "    context_features: A numpy float32 contextual memory bank of shape\n",
        "      [num_context_examples, 2057]\n",
        "    faster_rcnn_output_dict: The output_dict corresponding to this input image\n",
        "      from the single-frame Faster R-CNN model, which was previously used to\n",
        "      build the memory bank.\n",
        "    context_padding_size: The amount of expected padding in the contextual\n",
        "      memory bank, defined in the Context R-CNN config as\n",
        "      max_num_context_features.\n",
        "    resize_image: Whether to resize the input image before running inference.\n",
        "\n",
        "  Returns:\n",
        "    context_rcnn_image_np: Numpy image array showing Context R-CNN Results.\n",
        "    faster_rcnn_image_np: Numpy image array showing Faster R-CNN Results.\n",
        "  \"\"\"\n",
        "\n",
        "  # the array based representation of the image will be used later in order to prepare the\n",
        "  # result image with boxes and labels on it.\n",
        "  with open(image_path,'rb') as f:\n",
        "    image = Image.open(f)\n",
        "    if resize_image:\n",
        "      image.thumbnail((640,640),Image.ANTIALIAS)\n",
        "    image_np = np.array(image)\n",
        "    image.thumbnail((400,400),Image.ANTIALIAS)\n",
        "    context_rcnn_image_np = np.array(image)\n",
        "\n",
        "  faster_rcnn_image_np = np.copy(context_rcnn_image_np)\n",
        "\n",
        "  # Actual detection.\n",
        "  output_dict = run_context_rcnn_inference_for_single_image(\n",
        "      model, image_np, context_features, 2000)\n",
        "\n",
        "  # Visualization of the results of a context_rcnn detection.\n",
        "  vis_utils.visualize_boxes_and_labels_on_image_array(\n",
        "      context_rcnn_image_np,\n",
        "      output_dict['detection_boxes'],\n",
        "      output_dict['detection_classes'],\n",
        "      output_dict['detection_scores'],\n",
        "      category_index,\n",
        "      use_normalized_coordinates=True,\n",
        "      line_thickness=2)\n",
        "\n",
        "  # Visualization of the results of a faster_rcnn detection.\n",
        "  vis_utils.visualize_boxes_and_labels_on_image_array(\n",
        "      faster_rcnn_image_np,\n",
        "      faster_rcnn_output_dict['detection_boxes'],\n",
        "      faster_rcnn_output_dict['detection_classes'],\n",
        "      faster_rcnn_output_dict['detection_scores'],\n",
        "      category_index,\n",
        "      use_normalized_coordinates=True,\n",
        "      line_thickness=2)\n",
        "  return context_rcnn_image_np, faster_rcnn_image_np"
      ]
    },
    {
      "cell_type": "markdown",
      "metadata": {
        "id": "hAle1TnOypoz"
      },
      "source": [
        "## Plot the output images from both models"
      ]
    },
    {
      "cell_type": "code",
      "execution_count": null,
      "metadata": {
        "id": "Uh7HlHtFeJf8"
      },
      "outputs": [],
      "source": [
        "%matplotlib inline\n",
        "plt.rcParams['axes.grid'] = False\n",
        "plt.rcParams['xtick.labelsize'] = False\n",
        "plt.rcParams['ytick.labelsize'] = False\n",
        "plt.rcParams['xtick.top'] = False\n",
        "plt.rcParams['xtick.bottom'] = False\n",
        "plt.rcParams['ytick.left'] = False\n",
        "plt.rcParams['ytick.right'] = False\n",
        "plt.rcParams['figure.figsize'] = [15,10]"
      ]
    },
    {
      "cell_type": "code",
      "execution_count": null,
      "metadata": {
        "colab": {
          "background_save": true
        },
        "id": "yCldf6lNeLnt"
      },
      "outputs": [],
      "source": [
        "for image_path in TEST_IMAGE_PATHS:\n",
        "  head,tail = posixpath.split(image_path)\n",
        "  image_id = image_path_to_id[str(tail)]\n",
        "  faster_rcnn_output_dict = faster_rcnn_results[image_id]\n",
        "  context_rcnn_image, faster_rcnn_image = show_context_rcnn_inference(\n",
        "      context_rcnn_model, image_path, context_features_matrix,\n",
        "      faster_rcnn_output_dict, context_padding_size)\n",
        "  plt.subplot(1,2,1)\n",
        "  plt.imshow(faster_rcnn_image)\n",
        "  plt.title('Faster R-CNN')\n",
        "  plt.subplot(1,2,2)\n",
        "  plt.imshow(context_rcnn_image)\n",
        "  plt.title('Context R-CNN')\n",
        "  plt.show()"
      ]
    }
  ],
  "metadata": {
    "accelerator": "GPU",
    "colab": {
      "provenance": [],
      "include_colab_link": true
    },
    "gpuClass": "standard",
    "kernelspec": {
      "display_name": "Python 3",
      "name": "python3"
    },
    "language_info": {
      "name": "python"
    }
  },
  "nbformat": 4,
  "nbformat_minor": 0
}
